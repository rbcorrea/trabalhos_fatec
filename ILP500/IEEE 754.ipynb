{
 "cells": [
  {
   "cell_type": "markdown",
   "metadata": {},
   "source": [
    "# Exercício sobre IEEE 754\n",
    "\n",
    "Este material foi produzido por Rodrigo Baptista Correa ~> (GitHub)[https://github.com/rbcorrea \"Meu perfil\"] para a matéria **ILP 500**, ministrada pelo **Professor Sérgio Banin**.\n",
    "\n",
    "Foi utilizado Python 3.6.1 e o Jupyter Notebook para melhor visualização e interatividade com o programa.\n",
    "Todo o que foi produzido estará disponível (aqui)[].\n",
    "\n",
    "\n",
    "### Funções principais para a conversão:"
   ]
  },
  {
   "cell_type": "code",
   "execution_count": null,
   "metadata": {},
   "outputs": [],
   "source": []
  },
  {
   "cell_type": "code",
   "execution_count": null,
   "metadata": {},
   "outputs": [],
   "source": []
  }
 ],
 "metadata": {
  "kernelspec": {
   "display_name": "Python 3",
   "language": "python",
   "name": "python3"
  },
  "language_info": {
   "codemirror_mode": {
    "name": "ipython",
    "version": 3
   },
   "file_extension": ".py",
   "mimetype": "text/x-python",
   "name": "python",
   "nbconvert_exporter": "python",
   "pygments_lexer": "ipython3",
   "version": "3.6.4"
  }
 },
 "nbformat": 4,
 "nbformat_minor": 2
}
